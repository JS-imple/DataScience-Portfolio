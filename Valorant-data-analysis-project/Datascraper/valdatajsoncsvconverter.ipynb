{
 "cells": [
  {
   "cell_type": "code",
   "execution_count": 10,
   "id": "6d200230-f528-43f9-a207-dc39140e9b72",
   "metadata": {},
   "outputs": [],
   "source": [
    "import json"
   ]
  },
  {
   "cell_type": "code",
   "execution_count": 49,
   "id": "111e8479-b7cf-408c-8f84-00b7966dec06",
   "metadata": {},
   "outputs": [],
   "source": [
    "import pandas as pd\n",
    "\n",
    "# Specify the path to your JSON file within quotes\n",
    "file_path = r'D:\\Downloads\\JSvalmatchdata.json'\n",
    "\n",
    "# Read the JSON file into a DataFrame\n",
    "df = pd.read_json(file_path)"
   ]
  },
  {
   "cell_type": "code",
   "execution_count": 44,
   "id": "e037305c-9c71-489b-a43a-8b659ac40b1f",
   "metadata": {},
   "outputs": [
    {
     "name": "stdout",
     "output_type": "stream",
     "text": [
      "expiryDate                                    2024-04-19T11:52:05.9439889+00:00\n",
      "matches                       [{'attributes': {'id': '61b65fb2-b002-4ca0-a77...\n",
      "metadata                                      {'schema': 'riot-api', 'next': 2}\n",
      "paginationType                                                             Next\n",
      "requestingPlayerAttributes    {'platformSlug': 'riot', 'platformUserIdentifi...\n",
      "Name: data, dtype: object\n"
     ]
    }
   ],
   "source": [
    "for column in df.columns:\n",
    "    print(df[column])"
   ]
  },
  {
   "cell_type": "code",
   "execution_count": 84,
   "id": "d30c2631-ec70-42b2-9655-cdf8177694e7",
   "metadata": {},
   "outputs": [],
   "source": [
    "import json\n",
    "import csv\n",
    "\n",
    "with open(r'D:\\Downloads\\JSval6th20.json', 'r') as D:\n",
    "    data = json.load(D)\n",
    "    # Extract matches data\n",
    "    matches = data['data']['matches']\n",
    "    \n",
    "    # Open a CSV file for writing\n",
    "    with open('matches6th20.csv', 'w', newline='') as f:\n",
    "        # Define fieldnames for the CSV file\n",
    "        fieldnames = [\n",
    "            'Date', 'Map Name', 'Match Result', 'Agent Name', 'grenadeCasts', 'ability1Casts', \n",
    "            'ability2Casts', 'ultimateCasts', 'dealtHeadshots', 'dealtBodyshots', 'econRating', \n",
    "            'firstBloods', 'firstDeaths', 'lastDeaths', 'traded', 'kAST', 'flawless', 'thrifty', \n",
    "            'teamAces', 'clutches', 'damagePerRound', 'damageDeltaPerRound', 'headshotsPercentage', \n",
    "            'roundsPlayed', 'roundsWon', 'roundsLost', 'kills', 'headshots', 'deaths', 'assists', \n",
    "            'damage', 'damageReceived', 'plants', 'defuses', 'firstBloods', 'kdRatio', 'trnPerformanceScore',\n",
    "            'placement', 'rank'\n",
    "        ]\n",
    "        \n",
    "        # Create a CSV writer object\n",
    "        writer = csv.DictWriter(f, fieldnames=fieldnames)\n",
    "        \n",
    "        # Write the header row\n",
    "        writer.writeheader()\n",
    "        \n",
    "        # Iterate over each match and write to the CSV file\n",
    "        for match in matches:\n",
    "            # Extract desired fields from the match\n",
    "            item = {\n",
    "                'Date': match['metadata']['timestamp'],\n",
    "                'Map Name': match['metadata']['mapName'],\n",
    "                'Match Result': match['metadata']['result'],\n",
    "                'Agent Name': match['segments'][0]['metadata']['agentName'],\n",
    "                'grenadeCasts': match['segments'][0]['stats']['grenadeCasts']['value'],\n",
    "                'ability1Casts': match['segments'][0]['stats']['ability1Casts']['value'],\n",
    "                'ability2Casts': match['segments'][0]['stats']['ability2Casts']['value'],\n",
    "                'ultimateCasts': match['segments'][0]['stats']['ultimateCasts']['value'],\n",
    "                'dealtHeadshots': match['segments'][0]['stats']['dealtHeadshots']['value'],\n",
    "                'dealtBodyshots': match['segments'][0]['stats']['dealtBodyshots']['value'],\n",
    "                'econRating': match['segments'][0]['stats']['econRating']['value'],\n",
    "                'firstBloods': match['segments'][0]['stats']['firstBloods']['value'],\n",
    "                'firstDeaths': match['segments'][0]['stats']['firstDeaths']['value'],\n",
    "                'lastDeaths': match['segments'][0]['stats']['lastDeaths']['value'],\n",
    "                'traded': match['segments'][0]['stats']['traded']['value'],\n",
    "                'kAST': match['segments'][0]['stats']['kAST']['value'],\n",
    "                'flawless': match['segments'][0]['stats']['flawless']['value'],\n",
    "                'thrifty': match['segments'][0]['stats']['thrifty']['value'],\n",
    "                'teamAces': match['segments'][0]['stats']['headshots']['value'],\n",
    "                'clutches': match['segments'][0]['stats']['clutches']['value'],\n",
    "                'damagePerRound': match['segments'][0]['stats']['damagePerRound']['value'],\n",
    "                'damageDeltaPerRound': match['segments'][0]['stats']['damageDeltaPerRound']['value'], \n",
    "                'headshotsPercentage': match['segments'][0]['stats']['headshotsPercentage']['value'],\n",
    "                'roundsPlayed': match['segments'][0]['stats']['roundsPlayed']['value'],\n",
    "                'roundsWon': match['segments'][0]['stats']['roundsWon']['value'],\n",
    "                'roundsLost': match['segments'][0]['stats']['roundsLost']['value'],\n",
    "                'kills': match['segments'][0]['stats']['kills']['value'],\n",
    "                'headshots': match['segments'][0]['stats']['headshots']['value'],\n",
    "                'deaths': match['segments'][0]['stats']['deaths']['value'],\n",
    "                'assists': match['segments'][0]['stats']['assists']['value'],\n",
    "                'damage': match['segments'][0]['stats']['damage']['value'],\n",
    "                'damageReceived': match['segments'][0]['stats']['damageReceived']['value'],\n",
    "                'plants': match['segments'][0]['stats']['plants']['value'],\n",
    "                'defuses': match['segments'][0]['stats']['defuses']['value'],\n",
    "                'firstBloods': match['segments'][0]['stats']['firstBloods']['value'],\n",
    "                'kdRatio': match['segments'][0]['stats']['kdRatio']['value'],\n",
    "                'trnPerformanceScore': match['segments'][0]['stats']['kdRatio']['value'],\n",
    "                'placement': match['segments'][0]['stats']['placement']['value'],\n",
    "                'rank': match['segments'][0]['stats']['rank']['metadata']['tierName']\n",
    "            }\n",
    "            \n",
    "            # Write the item to the CSV file\n",
    "            writer.writerow(item)"
   ]
  },
  {
   "cell_type": "code",
   "execution_count": null,
   "id": "c2eb373f-edc3-443b-ba8b-1a0984f16b93",
   "metadata": {},
   "outputs": [],
   "source": []
  },
  {
   "cell_type": "code",
   "execution_count": 26,
   "id": "64d5db8b-71b3-4497-b8fb-ec5e4dcd69a2",
   "metadata": {},
   "outputs": [
    {
     "data": {
      "text/html": [
       "<div>\n",
       "<style scoped>\n",
       "    .dataframe tbody tr th:only-of-type {\n",
       "        vertical-align: middle;\n",
       "    }\n",
       "\n",
       "    .dataframe tbody tr th {\n",
       "        vertical-align: top;\n",
       "    }\n",
       "\n",
       "    .dataframe thead th {\n",
       "        text-align: right;\n",
       "    }\n",
       "</style>\n",
       "<table border=\"1\" class=\"dataframe\">\n",
       "  <thead>\n",
       "    <tr style=\"text-align: right;\">\n",
       "      <th></th>\n",
       "      <th>data</th>\n",
       "    </tr>\n",
       "  </thead>\n",
       "  <tbody>\n",
       "    <tr>\n",
       "      <th>expiryDate</th>\n",
       "      <td>2024-04-19T11:52:05.9439889+00:00</td>\n",
       "    </tr>\n",
       "    <tr>\n",
       "      <th>matches</th>\n",
       "      <td>[{'attributes': {'id': '61b65fb2-b002-4ca0-a77...</td>\n",
       "    </tr>\n",
       "    <tr>\n",
       "      <th>metadata</th>\n",
       "      <td>{'schema': 'riot-api', 'next': 2}</td>\n",
       "    </tr>\n",
       "    <tr>\n",
       "      <th>paginationType</th>\n",
       "      <td>Next</td>\n",
       "    </tr>\n",
       "    <tr>\n",
       "      <th>requestingPlayerAttributes</th>\n",
       "      <td>{'platformSlug': 'riot', 'platformUserIdentifi...</td>\n",
       "    </tr>\n",
       "  </tbody>\n",
       "</table>\n",
       "</div>"
      ],
      "text/plain": [
       "                                                                         data\n",
       "expiryDate                                  2024-04-19T11:52:05.9439889+00:00\n",
       "matches                     [{'attributes': {'id': '61b65fb2-b002-4ca0-a77...\n",
       "metadata                                    {'schema': 'riot-api', 'next': 2}\n",
       "paginationType                                                           Next\n",
       "requestingPlayerAttributes  {'platformSlug': 'riot', 'platformUserIdentifi..."
      ]
     },
     "execution_count": 26,
     "metadata": {},
     "output_type": "execute_result"
    }
   ],
   "source": [
    "data."
   ]
  },
  {
   "cell_type": "code",
   "execution_count": 27,
   "id": "c3cd5555-379e-4eaa-8643-ff5a83db03cc",
   "metadata": {},
   "outputs": [
    {
     "data": {
      "text/plain": [
       "<bound method NDFrame.describe of                                                                          data\n",
       "expiryDate                                  2024-04-19T11:52:05.9439889+00:00\n",
       "matches                     [{'attributes': {'id': '61b65fb2-b002-4ca0-a77...\n",
       "metadata                                    {'schema': 'riot-api', 'next': 2}\n",
       "paginationType                                                           Next\n",
       "requestingPlayerAttributes  {'platformSlug': 'riot', 'platformUserIdentifi...>"
      ]
     },
     "execution_count": 27,
     "metadata": {},
     "output_type": "execute_result"
    }
   ],
   "source": [
    "df.describe"
   ]
  },
  {
   "cell_type": "code",
   "execution_count": 28,
   "id": "4086bc8d-8501-4873-a347-1c96aa9b002f",
   "metadata": {},
   "outputs": [
    {
     "data": {
      "text/plain": [
       "(5, 1)"
      ]
     },
     "execution_count": 28,
     "metadata": {},
     "output_type": "execute_result"
    }
   ],
   "source": [
    "df.shape"
   ]
  },
  {
   "cell_type": "code",
   "execution_count": 29,
   "id": "253e15bf-0222-465a-8d08-d144e398be7d",
   "metadata": {
    "scrolled": true
   },
   "outputs": [
    {
     "name": "stdout",
     "output_type": "stream",
     "text": [
      "                                                                         data\n",
      "expiryDate                                  2024-04-19T11:52:05.9439889+00:00\n",
      "matches                     [{'attributes': {'id': '61b65fb2-b002-4ca0-a77...\n",
      "metadata                                    {'schema': 'riot-api', 'next': 2}\n",
      "paginationType                                                           Next\n",
      "requestingPlayerAttributes  {'platformSlug': 'riot', 'platformUserIdentifi...\n"
     ]
    }
   ],
   "source": [
    "print(df)"
   ]
  },
  {
   "cell_type": "code",
   "execution_count": 35,
   "id": "77ff1028-41a0-4261-9033-66202bcaeb21",
   "metadata": {},
   "outputs": [],
   "source": []
  },
  {
   "cell_type": "code",
   "execution_count": 36,
   "id": "3f2ff4a5-6d16-4a26-a54b-174bdbb8a645",
   "metadata": {},
   "outputs": [
    {
     "name": "stdout",
     "output_type": "stream",
     "text": [
      "    0\n",
      "0 NaN\n",
      "1 NaN\n",
      "2 NaN\n",
      "3 NaN\n",
      "4 NaN\n"
     ]
    }
   ],
   "source": []
  },
  {
   "cell_type": "code",
   "execution_count": null,
   "id": "69cfc1dc-2409-407e-b4f3-ffd9d03e9f21",
   "metadata": {},
   "outputs": [],
   "source": []
  },
  {
   "cell_type": "code",
   "execution_count": null,
   "id": "54f68ded-bfca-469f-bda4-7633316cbe3a",
   "metadata": {},
   "outputs": [],
   "source": []
  },
  {
   "cell_type": "code",
   "execution_count": null,
   "id": "3012d6d0-34ce-4b0c-8c7f-fef7832ea2ed",
   "metadata": {},
   "outputs": [],
   "source": []
  }
 ],
 "metadata": {
  "kernelspec": {
   "display_name": "Python 3 (ipykernel)",
   "language": "python",
   "name": "python3"
  },
  "language_info": {
   "codemirror_mode": {
    "name": "ipython",
    "version": 3
   },
   "file_extension": ".py",
   "mimetype": "text/x-python",
   "name": "python",
   "nbconvert_exporter": "python",
   "pygments_lexer": "ipython3",
   "version": "3.11.7"
  }
 },
 "nbformat": 4,
 "nbformat_minor": 5
}
